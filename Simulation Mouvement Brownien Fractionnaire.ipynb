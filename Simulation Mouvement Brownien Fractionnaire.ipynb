{
 "cells": [
  {
   "cell_type": "markdown",
   "metadata": {},
   "source": [
    "# Circulant Method for Simulatin Fractional Brownian Movement"
   ]
  },
  {
   "cell_type": "code",
   "execution_count": 4,
   "metadata": {
    "collapsed": true
   },
   "outputs": [],
   "source": [
    "import numpy as np\n",
    "import numpy.random as rd\n",
    "import scipy.linalg as lalg\n",
    "import matplotlib.pyplot as plt\n",
    "import seaborn"
   ]
  },
  {
   "cell_type": "code",
   "execution_count": 5,
   "metadata": {
    "collapsed": true
   },
   "outputs": [],
   "source": [
    "# parameters\n",
    "t = 1  ## we simulate on interval [0, T]\n",
    "h = 0.25  ## Hurst exponant of our fractional gaussian movement"
   ]
  },
  {
   "cell_type": "markdown",
   "metadata": {},
   "source": [
    "In order to simulate a Gaussian vector with mean $M$ and cov $C$ we recall that it can be represented as $M + SX$ where $X$ is a standard gaussian vector and $S$ is such that $SS^t = C$.\n",
    "Thus, we need to generate a standard gaussian vector and such a \"square root\" matrix."
   ]
  },
  {
   "cell_type": "markdown",
   "metadata": {},
   "source": [
    "Our fractional Brownian motion (fBm) can be generated knowing only its increments and multiplying them by the regular time interval to the power $H$ : $(\\frac{T}{n})^H$.\n"
   ]
  },
  {
   "cell_type": "markdown",
   "metadata": {},
   "source": [
    "Its increments are stationary standard Gaussian variables that are defined by the following covariance fucntion: \n",
    "\n",
    "$\\rho_H(n) = \\mathbb{E}[\\xi_1\\xi_{n+1}] = \\frac{1}{2}((n+1)^{2H}+(n-1)^{2H}-2n^{2H}),  n\\geq1 $\n",
    "\n",
    "Such a sequence of increments is called a fractional Gaussian noise (fGn)."
   ]
  },
  {
   "cell_type": "code",
   "execution_count": 6,
   "metadata": {
    "collapsed": true
   },
   "outputs": [],
   "source": [
    "# our covariance function\n",
    "def cov(h, n):\n",
    "    if n >= 1:\n",
    "        return 0.5 * ((n + 1) ** (2 * h) + (n - 1) ** (2 * h) \n",
    "                      - 2 * n ** (2 * h))\n",
    "    else:\n",
    "        print(\"index 0 in cov function\")\n",
    "        return false\n",
    "    \n",
    "#vectorize it for further use\n",
    "vec_cov = np.vectorize(cov)"
   ]
  },
  {
   "cell_type": "markdown",
   "metadata": {},
   "source": [
    "With the preceding notations our covariance matrix is the following :\n",
    "\n",
    "$\n",
    "Cov(\\xi) = \n",
    "\\begin{pmatrix}\n",
    "1 & \\rho_H(1) & \\rho_H(1) & \\cdots & \\rho_H(N-2) & \\rho_H(N-1) \\\\\n",
    "\\rho_H(1) & 1 & \\rho_H(1) & \\cdots & \\rho_H(N-3) & \\rho_H(N-2) \\\\\n",
    "\\vdots & \\vdots & \\vdots & \\ddots & \\vdots & \\vdots \\\\\n",
    "\\rho_H(N-2) & \\rho_H(N-3) & \\rho_H(N-4) & \\cdots & 1 & \\rho_H(1) \\\\\n",
    "\\rho_H(N-1) & \\rho_H(N-2) & \\rho_H(N-3) & \\cdots & \\rho_H(1) & 1\n",
    "\\end{pmatrix}\n",
    "$"
   ]
  },
  {
   "cell_type": "markdown",
   "metadata": {},
   "source": [
    "In order to find a \"square root\" of $Cov(\\xi)$ the circulant method proposes to find the square root of a bigger matrix. Define :\n",
    "<br>\n",
    "<br>\n",
    "$M := 2(N-1)$\n",
    "<br>\n",
    "<br>\n",
    "$c_k :=\n",
    "\\begin{cases}\n",
    "1, & \\text{if}\\ k=0 \\\\\n",
    "\\rho_H(k), & \\text{if}\\ k=1,2,\\cdots,N-1 \\\\\n",
    "\\rho_H(M-k), & \\text{if} k = N,N+1,\\cdots,M-1\n",
    "\\end{cases}\n",
    "$\n",
    "\n",
    "The matrix in question is circulant and defined as follows:\n",
    "<br>\n",
    "<br>\n",
    "$ C = circ(c_0,c_1,\\cdots,c_M-1) = \n",
    "\\begin{pmatrix}\n",
    "c_0 & c_1 & c_2 & \\cdots & c_{M-2} & c_{M-1} \\\\\n",
    "c_{M-1} & c_0 & c_1 & \\cdots & c_{M-3} & c_{M-2} \\\\\n",
    "\\vdots & \\vdots & \\vdots & \\ddots & \\vdots & \\vdots \\\\\n",
    "c_2 & c_3 & c_4 & \\cdots & c_0 & c_1 \\\\\n",
    "c_1 & c_2 & c_3 & \\cdots & c_{M-1} & c_0\n",
    "\\end{pmatrix} \n",
    "$\n",
    "<br>\n",
    "<br>\n",
    "We shall now define those parameters and compute the circulant coefficients."
   ]
  },
  {
   "cell_type": "code",
   "execution_count": 7,
   "metadata": {},
   "outputs": [],
   "source": [
    "# exponent for the number of simulations\n",
    "q = 11\n",
    "# sample size and circulant matrix size\n",
    "n = 2 ** q + 1\n",
    "m = 2 ** (q + 1)"
   ]
  },
  {
   "cell_type": "code",
   "execution_count": 8,
   "metadata": {
    "collapsed": true
   },
   "outputs": [],
   "source": [
    "#circulant coefficients\n",
    "index = np.arange(1, m)\n",
    "coefs = np.zeros(m)\n",
    "coefs[0] = 0\n",
    "coefs[1:n + 1] = vec_cov(h, index[:n])\n",
    "coefs[n + 1:] = vec_cov(h, m - index[n:])"
   ]
  },
  {
   "cell_type": "markdown",
   "metadata": {},
   "source": [
    "Taking the root of such a Matrix can be done using a scaled discrete Fourier transform (DFT) represented by the matrix $Q = (q_{jk})_{j,k=0}^{M-1}$, with\n",
    "<br>\n",
    "<br>\n",
    "$$\n",
    "\\begin{equation}\n",
    "q_{jk} = \\frac{1}{\\sqrt{M}}\\exp{-2\\pi i\\frac{jk}{M}}\n",
    "\\end{equation}\n",
    "$$\n",
    "\n",
    "$Q^*$ then acts as the inverse DFT such that $Q^*Q = QQ^* = I_M $\n",
    "\n",
    "It follows from standard DFT properties (<font color='red'>TO BE EXAMINED</font>) that: \n",
    "<br>\n",
    "<br>\n",
    "$C = QDQ^*$ where $D = diag(\\lambda_0,\\lambda_1,\\cdots,\\lambda_{M-1})$\n",
    "<br>\n",
    "<br>\n",
    "with $\\lambda_k = \\Sigma_{j=0}^{M-1}c_j\\exp{-2\\pi i\\frac{jk}{M}}$.\n",
    "<br>\n",
    "<br>\n",
    "Consequently, $C=SS^*$ with $S=QD^{1/2}Q^*$, $D^{1/2}= diag(\\lambda_0^{1/2},\\lambda_1^{1/2},\\cdots,\\lambda_{M-1}^{1/2})$.\n",
    "<br>\n",
    "<br>\n",
    "Let us now compute such a square root using the numpy and scipy libraries."
   ]
  },
  {
   "cell_type": "code",
   "execution_count": 19,
   "metadata": {},
   "outputs": [],
   "source": [
    "# circulant matrix NOT USED\n",
    "lalg.circulant(coefs)\n",
    "\n",
    "# fft matrix\n",
    "# (COULD BE DONE USING FFT LIBRARY FROM NUMPY ---> FASTER?)\n",
    "\n",
    "j = np.zeros((m, m))\n",
    "j[1:, :] = np.ones((m - 1, m))\n",
    "j = np.cumsum(j, axis=0)\n",
    "k = np.zeros((m, m))\n",
    "k[:, 1:] = np.ones((m, m - 1))\n",
    "k = np.cumsum(k, axis=1)\n",
    "q = 1 / np.sqrt(m) * np.exp(-2 * 1j * np.pi * (1 / m) * j * k)"
   ]
  },
  {
   "cell_type": "code",
   "execution_count": null,
   "metadata": {},
   "outputs": [],
   "source": [
    "# diagonal matrix with sqrt of eigenvalues\n",
    "q_t = np.transpose(q)\n",
    "eigen_complex = np.dot(q_t, coefs)\n",
    "eigen = np.real(eigen_complex)\n",
    "eigen[eigen < 0] = 0 # GET RID OF NEGATIVE VALUES TODO: FIX\n",
    "eigen_sqrt = np.sqrt(eigen)\n",
    "diag_sqrt = np.diag(eigen_sqrt)"
   ]
  },
  {
   "cell_type": "code",
   "execution_count": 110,
   "metadata": {
    "collapsed": true
   },
   "outputs": [],
   "source": [
    "# compute fractional noise then movement\n",
    "x = rd.normal(size=m)\n",
    "q_adj = np.conj(np.transpose(q))\n",
    "s = np.dot(np.dot(q, diag_sqrt), q_adj)\n",
    "fgn = np.real(np.dot(s, x)[:n])\n",
    "fbm = np.cumsum(fgn * (1 / n) ** h)"
   ]
  },
  {
   "cell_type": "code",
   "execution_count": 111,
   "metadata": {},
   "outputs": [
    {
     "data": {
      "text/plain": [
       "0.0010225123973088268"
      ]
     },
     "execution_count": 111,
     "metadata": {},
     "output_type": "execute_result"
    }
   ],
   "source": [
    "fbm.mean()"
   ]
  },
  {
   "cell_type": "code",
   "execution_count": 1,
   "metadata": {
    "scrolled": false
   },
   "outputs": [
    {
     "ename": "NameError",
     "evalue": "name 'np' is not defined",
     "traceback": [
      "\u001b[0;31m---------------------------------------------------------------------------\u001b[0m",
      "\u001b[0;31mNameError\u001b[0m                                 Traceback (most recent call last)",
      "\u001b[0;32m<ipython-input-1-21f8842fe26f>\u001b[0m in \u001b[0;36m<module>\u001b[0;34m()\u001b[0m\n\u001b[1;32m      1\u001b[0m \u001b[0mget_ipython\u001b[0m\u001b[0;34m(\u001b[0m\u001b[0;34m)\u001b[0m\u001b[0;34m.\u001b[0m\u001b[0mrun_line_magic\u001b[0m\u001b[0;34m(\u001b[0m\u001b[0;34m'matplotlib'\u001b[0m\u001b[0;34m,\u001b[0m \u001b[0;34m'inline'\u001b[0m\u001b[0;34m)\u001b[0m\u001b[0;34m\u001b[0m\u001b[0m\n\u001b[0;32m----> 2\u001b[0;31m \u001b[0mtimes\u001b[0m \u001b[0;34m=\u001b[0m \u001b[0mnp\u001b[0m\u001b[0;34m.\u001b[0m\u001b[0mlinspace\u001b[0m\u001b[0;34m(\u001b[0m\u001b[0;36m0\u001b[0m\u001b[0;34m,\u001b[0m \u001b[0;36m1\u001b[0m\u001b[0;34m,\u001b[0m \u001b[0mn\u001b[0m\u001b[0;34m)\u001b[0m\u001b[0;34m\u001b[0m\u001b[0m\n\u001b[0m\u001b[1;32m      3\u001b[0m \u001b[0mplt\u001b[0m\u001b[0;34m.\u001b[0m\u001b[0mfigure\u001b[0m\u001b[0;34m(\u001b[0m\u001b[0mfigsize\u001b[0m\u001b[0;34m=\u001b[0m\u001b[0;34m(\u001b[0m\u001b[0;36m15\u001b[0m\u001b[0;34m,\u001b[0m\u001b[0;36m8\u001b[0m\u001b[0;34m)\u001b[0m\u001b[0;34m)\u001b[0m\u001b[0;34m\u001b[0m\u001b[0m\n\u001b[1;32m      4\u001b[0m \u001b[0mplt\u001b[0m\u001b[0;34m.\u001b[0m\u001b[0mplot\u001b[0m\u001b[0;34m(\u001b[0m\u001b[0mtimes\u001b[0m\u001b[0;34m,\u001b[0m \u001b[0mfgn\u001b[0m\u001b[0;34m)\u001b[0m\u001b[0;34m\u001b[0m\u001b[0m\n\u001b[1;32m      5\u001b[0m \u001b[0mplt\u001b[0m\u001b[0;34m.\u001b[0m\u001b[0mxlim\u001b[0m\u001b[0;34m(\u001b[0m\u001b[0;36m0\u001b[0m\u001b[0;34m,\u001b[0m\u001b[0;36m0.25\u001b[0m\u001b[0;34m)\u001b[0m\u001b[0;34m\u001b[0m\u001b[0m\n",
      "\u001b[0;31mNameError\u001b[0m: name 'np' is not defined"
     ],
     "output_type": "error"
    }
   ],
   "source": [
    "% matplotlib inline\n",
    "times = np.linspace(0, 1, n)\n",
    "plt.figure(figsize=(15,8))\n",
    "plt.plot(times, fgn)\n",
    "plt.xlim(0,0.25)"
   ]
  },
  {
   "cell_type": "code",
   "execution_count": null,
   "metadata": {},
   "outputs": [],
   "source": [
    ""
   ]
  }
 ],
 "metadata": {
  "kernelspec": {
   "display_name": "Python 3",
   "language": "python",
   "name": "python3"
  },
  "language_info": {
   "codemirror_mode": {
    "name": "ipython",
    "version": 3.0
   },
   "file_extension": ".py",
   "mimetype": "text/x-python",
   "name": "python",
   "nbconvert_exporter": "python",
   "pygments_lexer": "ipython3",
   "version": "3.6.0"
  }
 },
 "nbformat": 4,
 "nbformat_minor": 0
}